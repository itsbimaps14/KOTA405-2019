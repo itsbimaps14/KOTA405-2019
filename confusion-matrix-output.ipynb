{
 "cells": [
  {
   "cell_type": "code",
   "execution_count": 1,
   "id": "a4824a72",
   "metadata": {},
   "outputs": [
    {
     "name": "stderr",
     "output_type": "stream",
     "text": [
      "2023-06-19 17:56:49.057399: I tensorflow/stream_executor/platform/default/dso_loader.cc:49] Successfully opened dynamic library libcudart.so.10.1\n"
     ]
    }
   ],
   "source": [
    "# Libraries\n",
    "import tensorflow\n",
    "import torch\n",
    "import torch.nn as nn\n",
    "from torch.nn.utils.rnn import pad_sequence\n",
    "from torch.utils.data import DataLoader, ConcatDataset\n",
    "from transformers import AutoTokenizer, BertTokenizer \n",
    "\n",
    "import pandas as pd\n",
    "import time\n",
    "import numpy as np\n",
    "import matplotlib.pyplot as plt\n",
    "\n",
    "import seaborn as sn\n",
    "from sklearn.metrics import classification_report\n",
    "from sklearn.metrics import confusion_matrix\n",
    "\n",
    "from ABSA_SentimentMultiEmiten.model.bert import bert_ABSA\n",
    "from ABSA_SentimentMultiEmiten.data.dataset import dataset_ABSA"
   ]
  },
  {
   "cell_type": "code",
   "execution_count": 2,
   "id": "1ab941fd",
   "metadata": {
    "scrolled": true
   },
   "outputs": [
    {
     "name": "stdout",
     "output_type": "stream",
     "text": [
      "Tensorflow\t:  2.4.1\n",
      "Torch\t\t:  1.1.0\n",
      "Device\t\t:  cuda:3\n",
      "GPU\t\t:  Tesla T4\n",
      "CUDA\t\t:  9.0.176\n"
     ]
    }
   ],
   "source": [
    "# Menentukan device yang akan digunakan untuk melakukan komputasi\n",
    "DEVICE = torch.device(\"cuda:3\" if torch.cuda.is_available() else \"cpu\")\n",
    "\n",
    "print(\"Tensorflow\\t: \", tensorflow.__version__)\n",
    "print(\"Torch\\t\\t: \", torch.__version__)\n",
    "print(\"Device\\t\\t: \", DEVICE)\n",
    "print(\"GPU\\t\\t: \", torch.cuda.get_device_name())\n",
    "print(\"CUDA\\t\\t: \", torch.version.cuda)"
   ]
  },
  {
   "cell_type": "code",
   "execution_count": 3,
   "id": "b015ff1c",
   "metadata": {},
   "outputs": [],
   "source": [
    "# Hyperparameter\n",
    "bs = 16\n",
    "lr = 0.00002"
   ]
  },
  {
   "cell_type": "code",
   "execution_count": 4,
   "id": "4284ec7d",
   "metadata": {},
   "outputs": [],
   "source": [
    "# Inisialisasi pre-trained model IndoBERT\n",
    "### IndoLEM\n",
    "pretrained_model_name = \"indolem/indobert-base-uncased\"\n",
    "model_name = \"indolem-indobert-gs/indolem-indobert-gs-1.pkl\"\n",
    "\n",
    "### IndoNLU\n",
    "#pretrained_model_name = \"indobenchmark/indobert-base-p1\"\n",
    "## Skenario 1.2\n",
    "#model_name = \"indonlu-indobert-gs/indonlu-indobert-gs-1.pkl\"\n",
    "## Skenario 1.3\n",
    "#model_name = \"indonlu-indobert-gs/indonlu-indobert-gs-2.pkl\"\n",
    "\n",
    "tokenizer = AutoTokenizer.from_pretrained(pretrained_model_name)\n",
    "model_ABSA = bert_ABSA(pretrained_model_name)\n",
    "model_ABSA.to(DEVICE)\n",
    "optimizer_ABSA = torch.optim.Adam(model_ABSA.parameters(), lr=lr)"
   ]
  },
  {
   "cell_type": "code",
   "execution_count": 5,
   "id": "2f874968",
   "metadata": {},
   "outputs": [],
   "source": [
    "# Function untuk load model\n",
    "def load_model(model, path):\n",
    "    model.load_state_dict(torch.load(path), strict=False)\n",
    "    return model"
   ]
  },
  {
   "cell_type": "code",
   "execution_count": 6,
   "id": "e61979af",
   "metadata": {},
   "outputs": [],
   "source": [
    "# Mengubah dataset menjadi beberapa mini-batch\n",
    "def create_mini_batch(samples):\n",
    "    ids_tensors = [s[1] for s in samples]\n",
    "    ids_tensors = pad_sequence(ids_tensors, batch_first=True)\n",
    "\n",
    "    segments_tensors = [s[2] for s in samples]\n",
    "    segments_tensors = pad_sequence(segments_tensors, batch_first=True)\n",
    "\n",
    "    label_ids = torch.stack([s[3] for s in samples])\n",
    "    \n",
    "    masks_tensors = torch.zeros(ids_tensors.shape, dtype=torch.long)\n",
    "    masks_tensors = masks_tensors.masked_fill(ids_tensors != 0, 1)\n",
    "\n",
    "    return ids_tensors, segments_tensors, masks_tensors, label_ids"
   ]
  },
  {
   "cell_type": "code",
   "execution_count": 7,
   "id": "884d5a40",
   "metadata": {},
   "outputs": [],
   "source": [
    "# Function untuk pengujian model\n",
    "def test_model_ABSA(loader):\n",
    "    pred = []\n",
    "    truth = []\n",
    "    \n",
    "    with torch.no_grad():\n",
    "        # Pengulangan setiap mini-batch\n",
    "        for data in loader:\n",
    "            ids_tensors, segments_tensors, masks_tensors, label_ids = data\n",
    "            ids_tensors = ids_tensors.to(DEVICE)\n",
    "            segments_tensors = segments_tensors.to(DEVICE)\n",
    "            masks_tensors = masks_tensors.to(DEVICE)\n",
    "\n",
    "            outputs = model_ABSA(ids_tensors, None, masks_tensors=masks_tensors, segments_tensors=segments_tensors)\n",
    "            \n",
    "            _, predictions = torch.max(outputs, dim=1)\n",
    "\n",
    "            pred += list([int(i) for i in predictions])\n",
    "            truth += list([int(i) for i in label_ids])\n",
    "\n",
    "    return truth, pred"
   ]
  },
  {
   "cell_type": "code",
   "execution_count": 8,
   "id": "1f6d3a1f",
   "metadata": {},
   "outputs": [],
   "source": [
    "# Function untuk menampilkan confusion matrix\n",
    "def draw_c_matrix(c_matrix, title=\"test\"):\n",
    "    aix = []\n",
    "    \n",
    "    for y in range(len(c_matrix)):\n",
    "        aix.append(y)\n",
    "    df_cm = pd.DataFrame(c_matrix, aix, aix)\n",
    "    sn.heatmap(df_cm, annot=True, fmt='g', cmap='Blues')\n",
    "    plt.ylabel(\"ground truth\")\n",
    "    plt.xlabel(\"prediction\")\n",
    "    plt.title(title)\n",
    "    plt.show()"
   ]
  },
  {
   "cell_type": "code",
   "execution_count": 9,
   "id": "e85810fd",
   "metadata": {},
   "outputs": [],
   "source": [
    "# Inisialisasi dataset\n",
    "emiten_test_ds = dataset_ABSA(pd.read_csv(\"data_experiment/data_balance_experiment_testing.csv\"), tokenizer)\n",
    "test_ds = ConcatDataset([emiten_test_ds])\n",
    "\n",
    "# Mengubah dataset menjadi mini-batch\n",
    "test_loader = DataLoader(test_ds, batch_size=bs, collate_fn=create_mini_batch, shuffle = True)"
   ]
  },
  {
   "cell_type": "code",
   "execution_count": 10,
   "id": "a3f2af23",
   "metadata": {},
   "outputs": [],
   "source": [
    "model_ABSA = load_model(model_ABSA, model_name)"
   ]
  },
  {
   "cell_type": "code",
   "execution_count": 11,
   "id": "e44a7e22",
   "metadata": {},
   "outputs": [
    {
     "name": "stdout",
     "output_type": "stream",
     "text": [
      "              precision    recall  f1-score   support\n",
      "\n",
      "           0       0.96      0.95      0.96       806\n",
      "           1       0.88      0.90      0.89       808\n",
      "           2       0.90      0.89      0.90       799\n",
      "\n",
      "    accuracy                           0.92      2413\n",
      "   macro avg       0.92      0.92      0.92      2413\n",
      "weighted avg       0.92      0.92      0.92      2413\n",
      "\n"
     ]
    }
   ],
   "source": [
    "# Classification report\n",
    "x, y = test_model_ABSA(test_loader)\n",
    "print(classification_report(x, y, target_names=[str(i) for i in range(3)]))"
   ]
  },
  {
   "cell_type": "code",
   "execution_count": 12,
   "id": "ae29b1ef",
   "metadata": {},
   "outputs": [
    {
     "data": {
      "image/png": "[encoded data removed]",
      "text/plain": [
       "<Figure size 640x480 with 2 Axes>"
      ]
     },
     "metadata": {},
     "output_type": "display_data"
    }
   ],
   "source": [
    "cf_matrix = confusion_matrix(x, y)\n",
    "draw_c_matrix(cf_matrix, title=\"Confusion Matrix\")"
   ]
  }
 ],
 "metadata": {
  "kernelspec": {
   "display_name": "Python 3 (ipykernel)",
   "language": "python",
   "name": "python3"
  },
  "language_info": {
   "codemirror_mode": {
    "name": "ipython",
    "version": 3
   },
   "file_extension": ".py",
   "mimetype": "text/x-python",
   "name": "python",
   "nbconvert_exporter": "python",
   "pygments_lexer": "ipython3",
   "version": "3.7.6"
  }
 },
 "nbformat": 4,
 "nbformat_minor": 5
}
