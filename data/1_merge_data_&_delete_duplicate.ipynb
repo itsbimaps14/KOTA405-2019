{
 "cells": [
  {
   "cell_type": "code",
   "execution_count": 1,
   "metadata": {
    "id": "cCRH3lnmuXwk"
   },
   "outputs": [],
   "source": [
    "import pandas as pd\n",
    "import json"
   ]
  },
  {
   "cell_type": "code",
   "execution_count": 2,
   "metadata": {
    "colab": {
     "base_uri": "https://localhost:8080/"
    },
    "id": "fo2T_mwcwJ9K",
    "outputId": "51d0ba78-e1dc-44d4-ae94-f9952e5bb5ef"
   },
   "outputs": [
    {
     "name": "stdout",
     "output_type": "stream",
     "text": [
      "/home/bimad4/data/data_mentah_filtered\n"
     ]
    }
   ],
   "source": [
    "%cd \"/home/bimad4/data/data_mentah_filtered/\""
   ]
  },
  {
   "cell_type": "code",
   "execution_count": 3,
   "metadata": {
    "colab": {
     "base_uri": "https://localhost:8080/"
    },
    "id": "06dPQ1XAudMw",
    "outputId": "34502141-5951-46a5-8237-07dda78a5619"
   },
   "outputs": [],
   "source": [
    "db_news = pd.DataFrame(columns=['content'])\n",
    "\n",
    "f = open('ALL.json')\n",
    "data = json.load(f)\n",
    "f.close()\n",
    "\n",
    "for currentItem in data:\n",
    "    if (currentItem['meta']['source']['name'] == 'Cnbcindonesia-market' or currentItem['meta']['source']['name'] == 'Bisnis' or currentItem['meta']['source']['name'] == 'Indopremier - Ipotnews' or currentItem['meta']['source']['name'] == 'Investor' or currentItem['meta']['source']['name'] == 'Kontan') :\n",
    "        db_news.loc[db_news.shape[0] + 1]=currentItem['content'].replace(\"\\n\", \".\")"
   ]
  },
  {
   "cell_type": "code",
   "execution_count": 4,
   "metadata": {
    "colab": {
     "base_uri": "https://localhost:8080/"
    },
    "id": "vagt8Qrs09sm",
    "outputId": "56078f12-7e50-489a-8a90-90091e20da0d"
   },
   "outputs": [
    {
     "name": "stdout",
     "output_type": "stream",
     "text": [
      "row :\n"
     ]
    },
    {
     "data": {
      "text/html": [
       "<div>\n",
       "<style scoped>\n",
       "    .dataframe tbody tr th:only-of-type {\n",
       "        vertical-align: middle;\n",
       "    }\n",
       "\n",
       "    .dataframe tbody tr th {\n",
       "        vertical-align: top;\n",
       "    }\n",
       "\n",
       "    .dataframe thead th {\n",
       "        text-align: right;\n",
       "    }\n",
       "</style>\n",
       "<table border=\"1\" class=\"dataframe\">\n",
       "  <thead>\n",
       "    <tr style=\"text-align: right;\">\n",
       "      <th></th>\n",
       "      <th>content</th>\n",
       "    </tr>\n",
       "  </thead>\n",
       "  <tbody>\n",
       "    <tr>\n",
       "      <th>1</th>\n",
       "      <td>Bisnis Digital Kian Ekspansif, Intip Rekomenda...</td>\n",
       "    </tr>\n",
       "    <tr>\n",
       "      <th>2</th>\n",
       "      <td>Simak Rekomendasi Saham MNCN dari Mirae Asset ...</td>\n",
       "    </tr>\n",
       "    <tr>\n",
       "      <th>3</th>\n",
       "      <td>IHSG Merosot 0,28%, Saham BUKA, SMGR, dan MNCN...</td>\n",
       "    </tr>\n",
       "    <tr>\n",
       "      <th>4</th>\n",
       "      <td>IHSG Diprediksi Jatuh Lagi, Simak Saham Rekome...</td>\n",
       "    </tr>\n",
       "    <tr>\n",
       "      <th>5</th>\n",
       "      <td>IHSG Diprediksi Jatuh Lagi, Simak Saham Rekome...</td>\n",
       "    </tr>\n",
       "    <tr>\n",
       "      <th>...</th>\n",
       "      <td>...</td>\n",
       "    </tr>\n",
       "    <tr>\n",
       "      <th>7681</th>\n",
       "      <td>Seluruh Sektor Mengalami Tekanan, IHSG Dibuka ...</td>\n",
       "    </tr>\n",
       "    <tr>\n",
       "      <th>7682</th>\n",
       "      <td>Yuk Cermati Rekomendasi Saham dari Sejumlah An...</td>\n",
       "    </tr>\n",
       "    <tr>\n",
       "      <th>7683</th>\n",
       "      <td>Saham-Saham Big Cap Ini Banyak Diobral Asing S...</td>\n",
       "    </tr>\n",
       "    <tr>\n",
       "      <th>7684</th>\n",
       "      <td>IHSG Turun 0,05% ke 6.816 di Perdagangan Rabu ...</td>\n",
       "    </tr>\n",
       "    <tr>\n",
       "      <th>7685</th>\n",
       "      <td>Net Buy Asing Rp 95,64 Miliar, IHSG Menguat 0,...</td>\n",
       "    </tr>\n",
       "  </tbody>\n",
       "</table>\n",
       "<p>7685 rows × 1 columns</p>\n",
       "</div>"
      ],
      "text/plain": [
       "                                                content\n",
       "1     Bisnis Digital Kian Ekspansif, Intip Rekomenda...\n",
       "2     Simak Rekomendasi Saham MNCN dari Mirae Asset ...\n",
       "3     IHSG Merosot 0,28%, Saham BUKA, SMGR, dan MNCN...\n",
       "4     IHSG Diprediksi Jatuh Lagi, Simak Saham Rekome...\n",
       "5     IHSG Diprediksi Jatuh Lagi, Simak Saham Rekome...\n",
       "...                                                 ...\n",
       "7681  Seluruh Sektor Mengalami Tekanan, IHSG Dibuka ...\n",
       "7682  Yuk Cermati Rekomendasi Saham dari Sejumlah An...\n",
       "7683  Saham-Saham Big Cap Ini Banyak Diobral Asing S...\n",
       "7684  IHSG Turun 0,05% ke 6.816 di Perdagangan Rabu ...\n",
       "7685  Net Buy Asing Rp 95,64 Miliar, IHSG Menguat 0,...\n",
       "\n",
       "[7685 rows x 1 columns]"
      ]
     },
     "execution_count": 4,
     "metadata": {},
     "output_type": "execute_result"
    }
   ],
   "source": [
    "print(\"row :\")\n",
    "db_news"
   ]
  },
  {
   "cell_type": "code",
   "execution_count": 5,
   "metadata": {},
   "outputs": [
    {
     "data": {
      "text/html": [
       "<div>\n",
       "<style scoped>\n",
       "    .dataframe tbody tr th:only-of-type {\n",
       "        vertical-align: middle;\n",
       "    }\n",
       "\n",
       "    .dataframe tbody tr th {\n",
       "        vertical-align: top;\n",
       "    }\n",
       "\n",
       "    .dataframe thead th {\n",
       "        text-align: right;\n",
       "    }\n",
       "</style>\n",
       "<table border=\"1\" class=\"dataframe\">\n",
       "  <thead>\n",
       "    <tr style=\"text-align: right;\">\n",
       "      <th></th>\n",
       "      <th>content</th>\n",
       "    </tr>\n",
       "  </thead>\n",
       "  <tbody>\n",
       "    <tr>\n",
       "      <th>1</th>\n",
       "      <td>Bisnis Digital Kian Ekspansif, Intip Rekomenda...</td>\n",
       "    </tr>\n",
       "    <tr>\n",
       "      <th>2</th>\n",
       "      <td>Simak Rekomendasi Saham MNCN dari Mirae Asset ...</td>\n",
       "    </tr>\n",
       "    <tr>\n",
       "      <th>3</th>\n",
       "      <td>IHSG Merosot 0,28%, Saham BUKA, SMGR, dan MNCN...</td>\n",
       "    </tr>\n",
       "    <tr>\n",
       "      <th>4</th>\n",
       "      <td>IHSG Diprediksi Jatuh Lagi, Simak Saham Rekome...</td>\n",
       "    </tr>\n",
       "    <tr>\n",
       "      <th>5</th>\n",
       "      <td>IHSG Diprediksi Jatuh Lagi, Simak Saham Rekome...</td>\n",
       "    </tr>\n",
       "    <tr>\n",
       "      <th>...</th>\n",
       "      <td>...</td>\n",
       "    </tr>\n",
       "    <tr>\n",
       "      <th>7681</th>\n",
       "      <td>Seluruh Sektor Mengalami Tekanan, IHSG Dibuka ...</td>\n",
       "    </tr>\n",
       "    <tr>\n",
       "      <th>7682</th>\n",
       "      <td>Yuk Cermati Rekomendasi Saham dari Sejumlah An...</td>\n",
       "    </tr>\n",
       "    <tr>\n",
       "      <th>7683</th>\n",
       "      <td>Saham-Saham Big Cap Ini Banyak Diobral Asing S...</td>\n",
       "    </tr>\n",
       "    <tr>\n",
       "      <th>7684</th>\n",
       "      <td>IHSG Turun 0,05% ke 6.816 di Perdagangan Rabu ...</td>\n",
       "    </tr>\n",
       "    <tr>\n",
       "      <th>7685</th>\n",
       "      <td>Net Buy Asing Rp 95,64 Miliar, IHSG Menguat 0,...</td>\n",
       "    </tr>\n",
       "  </tbody>\n",
       "</table>\n",
       "<p>7685 rows × 1 columns</p>\n",
       "</div>"
      ],
      "text/plain": [
       "                                                content\n",
       "1     Bisnis Digital Kian Ekspansif, Intip Rekomenda...\n",
       "2     Simak Rekomendasi Saham MNCN dari Mirae Asset ...\n",
       "3     IHSG Merosot 0,28%, Saham BUKA, SMGR, dan MNCN...\n",
       "4     IHSG Diprediksi Jatuh Lagi, Simak Saham Rekome...\n",
       "5     IHSG Diprediksi Jatuh Lagi, Simak Saham Rekome...\n",
       "...                                                 ...\n",
       "7681  Seluruh Sektor Mengalami Tekanan, IHSG Dibuka ...\n",
       "7682  Yuk Cermati Rekomendasi Saham dari Sejumlah An...\n",
       "7683  Saham-Saham Big Cap Ini Banyak Diobral Asing S...\n",
       "7684  IHSG Turun 0,05% ke 6.816 di Perdagangan Rabu ...\n",
       "7685  Net Buy Asing Rp 95,64 Miliar, IHSG Menguat 0,...\n",
       "\n",
       "[7685 rows x 1 columns]"
      ]
     },
     "execution_count": 5,
     "metadata": {},
     "output_type": "execute_result"
    }
   ],
   "source": [
    "db_news"
   ]
  },
  {
   "cell_type": "code",
   "execution_count": 6,
   "metadata": {
    "id": "qukbkdvP0m8C"
   },
   "outputs": [],
   "source": [
    "db_news = db_news.reset_index(drop=True)"
   ]
  },
  {
   "cell_type": "code",
   "execution_count": 7,
   "metadata": {
    "id": "KTalFc1j5ktf"
   },
   "outputs": [],
   "source": [
    "db_news.to_csv('all_data_new.csv')"
   ]
  },
  {
   "cell_type": "code",
   "execution_count": 8,
   "metadata": {
    "id": "L_l1a2eMs2EQ"
   },
   "outputs": [],
   "source": [
    "total_file = int(db_news.shape[0]/100)\n",
    "for i in range(total_file+1):\n",
    "  start = 100 * i \n",
    "  end = start + 99\n",
    "  db_news.loc[start:end].to_csv('data-'+str(i)+'.csv', index=False, header=False)"
   ]
  }
 ],
 "metadata": {
  "colab": {
   "provenance": []
  },
  "kernelspec": {
   "display_name": "Python 3 (ipykernel)",
   "language": "python",
   "name": "python3"
  },
  "language_info": {
   "codemirror_mode": {
    "name": "ipython",
    "version": 3
   },
   "file_extension": ".py",
   "mimetype": "text/x-python",
   "name": "python",
   "nbconvert_exporter": "python",
   "pygments_lexer": "ipython3",
   "version": "3.7.6"
  }
 },
 "nbformat": 4,
 "nbformat_minor": 1
}
