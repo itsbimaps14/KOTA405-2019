{
 "cells": [
  {
   "cell_type": "markdown",
   "metadata": {
    "id": "m7X8Bjlr2uiq"
   },
   "source": [
    "**Source Code : 1 Pengolahan Data dari Bentuk APC ke ATEPC**"
   ]
  },
  {
   "cell_type": "markdown",
   "metadata": {},
   "source": [
    "### *Load Folder and Dataset*\n",
    "---"
   ]
  },
  {
   "cell_type": "code",
   "execution_count": 1,
   "metadata": {
    "colab": {
     "base_uri": "https://localhost:8080/"
    },
    "id": "NuH291s-2tzY",
    "outputId": "00885de8-ee56-4f77-f141-0719114c8038"
   },
   "outputs": [
    {
     "name": "stdout",
     "output_type": "stream",
     "text": [
      "/home/bimad4/data/data_apc_atepc\n"
     ]
    }
   ],
   "source": [
    "%cd /home/bimad4/data/data_apc_atepc/"
   ]
  },
  {
   "cell_type": "code",
   "execution_count": 2,
   "metadata": {
    "colab": {
     "base_uri": "https://localhost:8080/"
    },
    "id": "cNgPFDe93i8d",
    "outputId": "393723ce-7bd3-4d66-f3ce-3c32acccba25"
   },
   "outputs": [
    {
     "name": "stderr",
     "output_type": "stream",
     "text": [
      "[nltk_data] Downloading package punkt to /home/bimad4/nltk_data...\n",
      "[nltk_data]   Package punkt is already up-to-date!\n"
     ]
    },
    {
     "data": {
      "text/plain": [
       "True"
      ]
     },
     "execution_count": 2,
     "metadata": {},
     "output_type": "execute_result"
    }
   ],
   "source": [
    "import nltk\n",
    "nltk.download('punkt')"
   ]
  },
  {
   "cell_type": "markdown",
   "metadata": {
    "id": "J-IedFfX3kYl"
   },
   "source": [
    "### *Merging Data APC menjadi 1 File*\n",
    "\n",
    "---"
   ]
  },
  {
   "cell_type": "code",
   "execution_count": 3,
   "metadata": {
    "id": "AoQKK-jX3jvL"
   },
   "outputs": [],
   "source": [
    "import string\n",
    "import re\n",
    "import os.path\n",
    "from os import path\n",
    "from nltk.tokenize import sent_tokenize"
   ]
  },
  {
   "cell_type": "code",
   "execution_count": 4,
   "metadata": {
    "id": "wixIapsJ3813"
   },
   "outputs": [],
   "source": [
    "all_data_lines = []\n",
    "i=0\n",
    "while i< 20:\n",
    "  file=open(\"apc_dataset_\"+str(i)+\".txt\", \"r\")\n",
    "  text = file.readlines()\n",
    "  text[len(text)-1] =  text[len(text)-1] + \"\\n\"\n",
    "  all_data_lines = all_data_lines + text\n",
    "  i=i+1\n",
    "\n",
    "new_file = open(\"apc_merge_dataset.txt\", \"w\")\n",
    "new_file.writelines(all_data_lines)\n",
    "new_file.close()"
   ]
  },
  {
   "cell_type": "markdown",
   "metadata": {
    "id": "etG1_MSM5xsK"
   },
   "source": [
    "### *Pre-processing Data (Feature Extraction)*\n",
    "\n",
    "---"
   ]
  },
  {
   "cell_type": "code",
   "execution_count": 5,
   "metadata": {
    "id": "PCbAqnOZ3_Ni"
   },
   "outputs": [],
   "source": [
    "def clean_sentences(sentences):\n",
    "  for sentence in sentences:\n",
    "    if \"$T$\" in sentence:\n",
    "      return sentence"
   ]
  },
  {
   "cell_type": "code",
   "execution_count": 6,
   "metadata": {
    "id": "oANeAXiK6AIQ"
   },
   "outputs": [],
   "source": [
    "def split_sentence(article):\n",
    "  tokens = nltk.tokenize.sent_tokenize(article)\n",
    "  return tokens"
   ]
  },
  {
   "cell_type": "code",
   "execution_count": 7,
   "metadata": {
    "id": "OewBScUg6CQi"
   },
   "outputs": [],
   "source": [
    "a_file = open(\"apc_merge_dataset.txt\", \"r\")\n",
    "articles = a_file.readlines()\n",
    "\n",
    "i =0\n",
    "\n",
    "while i < (len(articles)):\n",
    "  ### hapus url\n",
    "  articles[i] = re.sub('\\S+.com|\\S+.co.id|\\S+.co|\\S+.id', '.', articles[i])\n",
    "  \n",
    "  ### hapus titik yang bukan pemisah kalimat \n",
    "  articles[i] = articles[i].replace(\"PT.\", \"PT\").replace(\"Tbk.\", \"Tbk\")\n",
    "  for number in range(100):\n",
    "    articles[i] = articles[i].replace(\" \"+str(number)+\". \", \" \" )\n",
    "\n",
    "  ### Split dan ambil kalimat yang mengandung emiten\n",
    "  list_of_sentences = split_sentence(articles[i])\n",
    "  new_sentence = clean_sentences(list_of_sentences)\n",
    "\n",
    "  ### Hapus tanda baca kecuali '$' \n",
    "  new_sentence = re.sub(r'[^\\w\\d\\s\\$\\.]+', '', str(new_sentence))\n",
    "\n",
    "  ### Menambahkan karakter unik sebagai pemisah antar artikel\n",
    "  articles[i] = new_sentence + \" EOF \\n\"\n",
    "    \n",
    "  i = i+3\n",
    "a_file.close()"
   ]
  },
  {
   "cell_type": "code",
   "execution_count": 8,
   "metadata": {
    "id": "LV2dn44H6GKn"
   },
   "outputs": [],
   "source": [
    "### save file after preprocessing\n",
    "new_file = open(\"dataset_apc_final.txt\", \"w\")\n",
    "new_file.writelines(articles)\n",
    "new_file.close()"
   ]
  },
  {
   "cell_type": "markdown",
   "metadata": {
    "id": "BU5ko378-P4i"
   },
   "source": [
    "### Convertion Data from APC to ATEPC\n",
    "\n",
    "---\n",
    "\n"
   ]
  },
  {
   "cell_type": "code",
   "execution_count": 9,
   "metadata": {
    "colab": {
     "base_uri": "https://localhost:8080/",
     "height": 1000
    },
    "id": "0Lv-MbUE-Ueo",
    "outputId": "094db989-e976-4c39-9f15-d6d5386d8876"
   },
   "outputs": [
    {
     "name": "stdout",
     "output_type": "stream",
     "text": [
      "Requirement already satisfied: pyabsa==1.16.27 in /home/bimad4/anaconda3/envs/absa-env/lib/python3.7/site-packages (1.16.27)\n",
      "Requirement already satisfied: findfile>=1.7.9.8 in /home/bimad4/anaconda3/envs/absa-env/lib/python3.7/site-packages (from pyabsa==1.16.27) (2.0.0)\n",
      "Requirement already satisfied: spacy in /home/bimad4/anaconda3/envs/absa-env/lib/python3.7/site-packages (from pyabsa==1.16.27) (3.5.3)\n",
      "Requirement already satisfied: typing-extensions in /home/bimad4/anaconda3/envs/absa-env/lib/python3.7/site-packages (from pyabsa==1.16.27) (4.4.0)\n",
      "Requirement already satisfied: tqdm in /home/bimad4/anaconda3/envs/absa-env/lib/python3.7/site-packages (from pyabsa==1.16.27) (4.64.1)\n",
      "Requirement already satisfied: transformers>4.20.0 in /home/bimad4/anaconda3/envs/absa-env/lib/python3.7/site-packages (from pyabsa==1.16.27) (4.30.1)\n",
      "Requirement already satisfied: torch>1.0.0 in /home/bimad4/anaconda3/envs/absa-env/lib/python3.7/site-packages (from pyabsa==1.16.27) (1.4.0)\n",
      "Requirement already satisfied: boostaug>=2.2.5 in /home/bimad4/anaconda3/envs/absa-env/lib/python3.7/site-packages (from pyabsa==1.16.27) (2.2.5)\n",
      "Requirement already satisfied: autocuda>=0.11 in /home/bimad4/anaconda3/envs/absa-env/lib/python3.7/site-packages (from pyabsa==1.16.27) (0.16)\n",
      "Requirement already satisfied: gitpython in /home/bimad4/anaconda3/envs/absa-env/lib/python3.7/site-packages (from pyabsa==1.16.27) (3.1.31)\n",
      "Requirement already satisfied: metric-visualizer>=0.6.3 in /home/bimad4/anaconda3/envs/absa-env/lib/python3.7/site-packages (from pyabsa==1.16.27) (0.8.7.4)\n",
      "Requirement already satisfied: gdown>=4.4.0 in /home/bimad4/anaconda3/envs/absa-env/lib/python3.7/site-packages (from pyabsa==1.16.27) (4.7.1)\n",
      "Requirement already satisfied: update-checker in /home/bimad4/anaconda3/envs/absa-env/lib/python3.7/site-packages (from pyabsa==1.16.27) (0.18.0)\n",
      "Requirement already satisfied: termcolor in /home/bimad4/anaconda3/envs/absa-env/lib/python3.7/site-packages (from pyabsa==1.16.27) (2.1.0)\n",
      "Requirement already satisfied: sentencepiece in /home/bimad4/anaconda3/envs/absa-env/lib/python3.7/site-packages (from pyabsa==1.16.27) (0.1.97)\n",
      "Requirement already satisfied: seqeval in /home/bimad4/anaconda3/envs/absa-env/lib/python3.7/site-packages (from pyabsa==1.16.27) (1.2.2)\n",
      "Requirement already satisfied: networkx in /home/bimad4/anaconda3/envs/absa-env/lib/python3.7/site-packages (from pyabsa==1.16.27) (2.6.3)\n",
      "Requirement already satisfied: pytorch-warmup in /home/bimad4/anaconda3/envs/absa-env/lib/python3.7/site-packages (from pyabsa==1.16.27) (0.1.1)\n",
      "Requirement already satisfied: requests[socks] in /home/bimad4/anaconda3/envs/absa-env/lib/python3.7/site-packages (from gdown>=4.4.0->pyabsa==1.16.27) (2.28.1)\n",
      "Requirement already satisfied: six in /home/bimad4/anaconda3/envs/absa-env/lib/python3.7/site-packages (from gdown>=4.4.0->pyabsa==1.16.27) (1.15.0)\n",
      "Requirement already satisfied: filelock in /home/bimad4/anaconda3/envs/absa-env/lib/python3.7/site-packages (from gdown>=4.4.0->pyabsa==1.16.27) (3.9.0)\n",
      "Requirement already satisfied: beautifulsoup4 in /home/bimad4/anaconda3/envs/absa-env/lib/python3.7/site-packages (from gdown>=4.4.0->pyabsa==1.16.27) (4.11.1)\n",
      "Requirement already satisfied: numpy in /home/bimad4/anaconda3/envs/absa-env/lib/python3.7/site-packages (from metric-visualizer>=0.6.3->pyabsa==1.16.27) (1.19.5)\n",
      "Requirement already satisfied: scipy in /home/bimad4/anaconda3/envs/absa-env/lib/python3.7/site-packages (from metric-visualizer>=0.6.3->pyabsa==1.16.27) (1.7.3)\n",
      "Requirement already satisfied: natsort in /home/bimad4/anaconda3/envs/absa-env/lib/python3.7/site-packages (from metric-visualizer>=0.6.3->pyabsa==1.16.27) (8.3.1)\n",
      "Requirement already satisfied: pandas in /home/bimad4/anaconda3/envs/absa-env/lib/python3.7/site-packages (from metric-visualizer>=0.6.3->pyabsa==1.16.27) (1.3.5)\n",
      "Requirement already satisfied: openpyxl in /home/bimad4/anaconda3/envs/absa-env/lib/python3.7/site-packages (from metric-visualizer>=0.6.3->pyabsa==1.16.27) (3.1.2)\n",
      "Requirement already satisfied: matplotlib<3.6.0 in /home/bimad4/anaconda3/envs/absa-env/lib/python3.7/site-packages (from metric-visualizer>=0.6.3->pyabsa==1.16.27) (3.5.3)\n",
      "Requirement already satisfied: tikzplotlib in /home/bimad4/anaconda3/envs/absa-env/lib/python3.7/site-packages (from metric-visualizer>=0.6.3->pyabsa==1.16.27) (0.10.1)\n",
      "Requirement already satisfied: click in /home/bimad4/anaconda3/envs/absa-env/lib/python3.7/site-packages (from metric-visualizer>=0.6.3->pyabsa==1.16.27) (8.1.3)\n",
      "Requirement already satisfied: tabulate in /home/bimad4/anaconda3/envs/absa-env/lib/python3.7/site-packages (from metric-visualizer>=0.6.3->pyabsa==1.16.27) (0.9.0)\n",
      "Requirement already satisfied: xlsxwriter in /home/bimad4/anaconda3/envs/absa-env/lib/python3.7/site-packages (from metric-visualizer>=0.6.3->pyabsa==1.16.27) (3.1.2)\n",
      "Requirement already satisfied: pyyaml>=5.1 in /home/bimad4/anaconda3/envs/absa-env/lib/python3.7/site-packages (from transformers>4.20.0->pyabsa==1.16.27) (6.0)\n",
      "Requirement already satisfied: safetensors>=0.3.1 in /home/bimad4/anaconda3/envs/absa-env/lib/python3.7/site-packages (from transformers>4.20.0->pyabsa==1.16.27) (0.3.1)\n",
      "Requirement already satisfied: regex!=2019.12.17 in /home/bimad4/anaconda3/envs/absa-env/lib/python3.7/site-packages (from transformers>4.20.0->pyabsa==1.16.27) (2022.10.31)\n",
      "Requirement already satisfied: packaging>=20.0 in /home/bimad4/anaconda3/envs/absa-env/lib/python3.7/site-packages (from transformers>4.20.0->pyabsa==1.16.27) (22.0)\n",
      "Requirement already satisfied: huggingface-hub<1.0,>=0.14.1 in /home/bimad4/anaconda3/envs/absa-env/lib/python3.7/site-packages (from transformers>4.20.0->pyabsa==1.16.27) (0.15.1)\n",
      "Requirement already satisfied: importlib-metadata in /home/bimad4/anaconda3/envs/absa-env/lib/python3.7/site-packages (from transformers>4.20.0->pyabsa==1.16.27) (4.11.3)\n",
      "Requirement already satisfied: tokenizers!=0.11.3,<0.14,>=0.11.1 in /home/bimad4/anaconda3/envs/absa-env/lib/python3.7/site-packages (from transformers>4.20.0->pyabsa==1.16.27) (0.13.3)\n",
      "Requirement already satisfied: gitdb<5,>=4.0.1 in /home/bimad4/anaconda3/envs/absa-env/lib/python3.7/site-packages (from gitpython->pyabsa==1.16.27) (4.0.10)\n",
      "Requirement already satisfied: scikit-learn>=0.21.3 in /home/bimad4/anaconda3/envs/absa-env/lib/python3.7/site-packages (from seqeval->pyabsa==1.16.27) (1.0.2)\n",
      "Requirement already satisfied: setuptools in /home/bimad4/anaconda3/envs/absa-env/lib/python3.7/site-packages (from spacy->pyabsa==1.16.27) (65.6.3)\n",
      "Requirement already satisfied: typer<0.8.0,>=0.3.0 in /home/bimad4/anaconda3/envs/absa-env/lib/python3.7/site-packages (from spacy->pyabsa==1.16.27) (0.7.0)\n",
      "Requirement already satisfied: preshed<3.1.0,>=3.0.2 in /home/bimad4/anaconda3/envs/absa-env/lib/python3.7/site-packages (from spacy->pyabsa==1.16.27) (3.0.8)\n",
      "Requirement already satisfied: smart-open<7.0.0,>=5.2.1 in /home/bimad4/anaconda3/envs/absa-env/lib/python3.7/site-packages (from spacy->pyabsa==1.16.27) (6.3.0)\n",
      "Requirement already satisfied: jinja2 in /home/bimad4/anaconda3/envs/absa-env/lib/python3.7/site-packages (from spacy->pyabsa==1.16.27) (3.1.2)\n",
      "Requirement already satisfied: spacy-loggers<2.0.0,>=1.0.0 in /home/bimad4/anaconda3/envs/absa-env/lib/python3.7/site-packages (from spacy->pyabsa==1.16.27) (1.0.4)\n",
      "Requirement already satisfied: murmurhash<1.1.0,>=0.28.0 in /home/bimad4/anaconda3/envs/absa-env/lib/python3.7/site-packages (from spacy->pyabsa==1.16.27) (1.0.9)\n",
      "Requirement already satisfied: cymem<2.1.0,>=2.0.2 in /home/bimad4/anaconda3/envs/absa-env/lib/python3.7/site-packages (from spacy->pyabsa==1.16.27) (2.0.7)\n",
      "Requirement already satisfied: catalogue<2.1.0,>=2.0.6 in /home/bimad4/anaconda3/envs/absa-env/lib/python3.7/site-packages (from spacy->pyabsa==1.16.27) (2.0.8)\n",
      "Requirement already satisfied: langcodes<4.0.0,>=3.2.0 in /home/bimad4/anaconda3/envs/absa-env/lib/python3.7/site-packages (from spacy->pyabsa==1.16.27) (3.3.0)\n",
      "Requirement already satisfied: pydantic!=1.8,!=1.8.1,<1.11.0,>=1.7.4 in /home/bimad4/anaconda3/envs/absa-env/lib/python3.7/site-packages (from spacy->pyabsa==1.16.27) (1.10.9)\n",
      "Requirement already satisfied: spacy-legacy<3.1.0,>=3.0.11 in /home/bimad4/anaconda3/envs/absa-env/lib/python3.7/site-packages (from spacy->pyabsa==1.16.27) (3.0.12)\n",
      "Requirement already satisfied: srsly<3.0.0,>=2.4.3 in /home/bimad4/anaconda3/envs/absa-env/lib/python3.7/site-packages (from spacy->pyabsa==1.16.27) (2.4.6)\n",
      "Requirement already satisfied: pathy>=0.10.0 in /home/bimad4/anaconda3/envs/absa-env/lib/python3.7/site-packages (from spacy->pyabsa==1.16.27) (0.10.1)\n",
      "Requirement already satisfied: thinc<8.2.0,>=8.1.8 in /home/bimad4/anaconda3/envs/absa-env/lib/python3.7/site-packages (from spacy->pyabsa==1.16.27) (8.1.10)\n",
      "Requirement already satisfied: wasabi<1.2.0,>=0.9.1 in /home/bimad4/anaconda3/envs/absa-env/lib/python3.7/site-packages (from spacy->pyabsa==1.16.27) (1.1.2)\n",
      "Requirement already satisfied: zipp>=0.5 in /home/bimad4/anaconda3/envs/absa-env/lib/python3.7/site-packages (from catalogue<2.1.0,>=2.0.6->spacy->pyabsa==1.16.27) (3.11.0)\n",
      "Requirement already satisfied: smmap<6,>=3.0.1 in /home/bimad4/anaconda3/envs/absa-env/lib/python3.7/site-packages (from gitdb<5,>=4.0.1->gitpython->pyabsa==1.16.27) (5.0.0)\n"
     ]
    },
    {
     "name": "stdout",
     "output_type": "stream",
     "text": [
      "Requirement already satisfied: fsspec in /home/bimad4/anaconda3/envs/absa-env/lib/python3.7/site-packages (from huggingface-hub<1.0,>=0.14.1->transformers>4.20.0->pyabsa==1.16.27) (2023.1.0)\n",
      "Requirement already satisfied: kiwisolver>=1.0.1 in /home/bimad4/anaconda3/envs/absa-env/lib/python3.7/site-packages (from matplotlib<3.6.0->metric-visualizer>=0.6.3->pyabsa==1.16.27) (1.4.4)\n",
      "Requirement already satisfied: python-dateutil>=2.7 in /home/bimad4/anaconda3/envs/absa-env/lib/python3.7/site-packages (from matplotlib<3.6.0->metric-visualizer>=0.6.3->pyabsa==1.16.27) (2.8.2)\n",
      "Requirement already satisfied: pyparsing>=2.2.1 in /home/bimad4/anaconda3/envs/absa-env/lib/python3.7/site-packages (from matplotlib<3.6.0->metric-visualizer>=0.6.3->pyabsa==1.16.27) (3.0.9)\n",
      "Requirement already satisfied: pillow>=6.2.0 in /home/bimad4/anaconda3/envs/absa-env/lib/python3.7/site-packages (from matplotlib<3.6.0->metric-visualizer>=0.6.3->pyabsa==1.16.27) (9.3.0)\n",
      "Requirement already satisfied: fonttools>=4.22.0 in /home/bimad4/anaconda3/envs/absa-env/lib/python3.7/site-packages (from matplotlib<3.6.0->metric-visualizer>=0.6.3->pyabsa==1.16.27) (4.38.0)\n",
      "Requirement already satisfied: cycler>=0.10 in /home/bimad4/anaconda3/envs/absa-env/lib/python3.7/site-packages (from matplotlib<3.6.0->metric-visualizer>=0.6.3->pyabsa==1.16.27) (0.11.0)\n",
      "Requirement already satisfied: certifi>=2017.4.17 in /home/bimad4/anaconda3/envs/absa-env/lib/python3.7/site-packages (from requests[socks]->gdown>=4.4.0->pyabsa==1.16.27) (2022.12.7)\n",
      "Requirement already satisfied: charset-normalizer<3,>=2 in /home/bimad4/anaconda3/envs/absa-env/lib/python3.7/site-packages (from requests[socks]->gdown>=4.4.0->pyabsa==1.16.27) (2.0.4)\n",
      "Requirement already satisfied: urllib3<1.27,>=1.21.1 in /home/bimad4/anaconda3/envs/absa-env/lib/python3.7/site-packages (from requests[socks]->gdown>=4.4.0->pyabsa==1.16.27) (1.26.14)\n",
      "Requirement already satisfied: idna<4,>=2.5 in /home/bimad4/anaconda3/envs/absa-env/lib/python3.7/site-packages (from requests[socks]->gdown>=4.4.0->pyabsa==1.16.27) (3.4)\n",
      "Requirement already satisfied: threadpoolctl>=2.0.0 in /home/bimad4/anaconda3/envs/absa-env/lib/python3.7/site-packages (from scikit-learn>=0.21.3->seqeval->pyabsa==1.16.27) (3.1.0)\n",
      "Requirement already satisfied: joblib>=0.11 in /home/bimad4/anaconda3/envs/absa-env/lib/python3.7/site-packages (from scikit-learn>=0.21.3->seqeval->pyabsa==1.16.27) (1.2.0)\n",
      "Requirement already satisfied: confection<1.0.0,>=0.0.1 in /home/bimad4/anaconda3/envs/absa-env/lib/python3.7/site-packages (from thinc<8.2.0,>=8.1.8->spacy->pyabsa==1.16.27) (0.0.4)\n",
      "Requirement already satisfied: blis<0.8.0,>=0.7.8 in /home/bimad4/anaconda3/envs/absa-env/lib/python3.7/site-packages (from thinc<8.2.0,>=8.1.8->spacy->pyabsa==1.16.27) (0.7.9)\n",
      "Requirement already satisfied: soupsieve>1.2 in /home/bimad4/anaconda3/envs/absa-env/lib/python3.7/site-packages (from beautifulsoup4->gdown>=4.4.0->pyabsa==1.16.27) (2.3.2.post1)\n",
      "Requirement already satisfied: MarkupSafe>=2.0 in /home/bimad4/anaconda3/envs/absa-env/lib/python3.7/site-packages (from jinja2->spacy->pyabsa==1.16.27) (2.1.1)\n",
      "Requirement already satisfied: et-xmlfile in /home/bimad4/anaconda3/envs/absa-env/lib/python3.7/site-packages (from openpyxl->metric-visualizer>=0.6.3->pyabsa==1.16.27) (1.1.0)\n",
      "Requirement already satisfied: pytz>=2017.3 in /home/bimad4/anaconda3/envs/absa-env/lib/python3.7/site-packages (from pandas->metric-visualizer>=0.6.3->pyabsa==1.16.27) (2022.7)\n",
      "Requirement already satisfied: PySocks!=1.5.7,>=1.5.6 in /home/bimad4/anaconda3/envs/absa-env/lib/python3.7/site-packages (from requests[socks]->gdown>=4.4.0->pyabsa==1.16.27) (1.7.1)\n",
      "Requirement already satisfied: webcolors in /home/bimad4/anaconda3/envs/absa-env/lib/python3.7/site-packages (from tikzplotlib->metric-visualizer>=0.6.3->pyabsa==1.16.27) (1.13)\n",
      "\n",
      "\u001b[1m[\u001b[0m\u001b[34;49mnotice\u001b[0m\u001b[1;39;49m]\u001b[0m\u001b[39;49m A new release of pip is available: \u001b[0m\u001b[31;49m23.0.1\u001b[0m\u001b[39;49m -> \u001b[0m\u001b[32;49m23.1.2\u001b[0m\n",
      "\u001b[1m[\u001b[0m\u001b[34;49mnotice\u001b[0m\u001b[1;39;49m]\u001b[0m\u001b[39;49m To update, run: \u001b[0m\u001b[32;49mpip install --upgrade pip\u001b[0m\n"
     ]
    }
   ],
   "source": [
    "!pip install pyabsa==1.16.27"
   ]
  },
  {
   "cell_type": "code",
   "execution_count": 10,
   "metadata": {
    "colab": {
     "base_uri": "https://localhost:8080/"
    },
    "id": "VHDJOT0yfcp8",
    "outputId": "622eac01-7509-4a89-b2bd-35d73eb8faf6"
   },
   "outputs": [
    {
     "name": "stderr",
     "output_type": "stream",
     "text": [
      "2023-06-11 16:57:17.859302: I tensorflow/stream_executor/platform/default/dso_loader.cc:49] Successfully opened dynamic library libcudart.so.10.1\n",
      "/home/bimad4/anaconda3/envs/absa-env/lib/python3.7/importlib/_bootstrap.py:219: ImportWarning: can't resolve package from __spec__ or __package__, falling back on __name__ and __path__\n",
      "  return f(*args, **kwds)\n",
      "/home/bimad4/anaconda3/envs/absa-env/lib/python3.7/site-packages/tensorflow/python/autograph/impl/api.py:22: DeprecationWarning: the imp module is deprecated in favour of importlib; see the module's documentation for alternative uses\n",
      "  import imp\n",
      "/home/bimad4/anaconda3/envs/absa-env/lib/python3.7/site-packages/keras_preprocessing/image/utils.py:23: DeprecationWarning: NEAREST is deprecated and will be removed in Pillow 10 (2023-07-01). Use Resampling.NEAREST or Dither.NONE instead.\n",
      "  'nearest': pil_image.NEAREST,\n",
      "/home/bimad4/anaconda3/envs/absa-env/lib/python3.7/site-packages/keras_preprocessing/image/utils.py:24: DeprecationWarning: BILINEAR is deprecated and will be removed in Pillow 10 (2023-07-01). Use Resampling.BILINEAR instead.\n",
      "  'bilinear': pil_image.BILINEAR,\n",
      "/home/bimad4/anaconda3/envs/absa-env/lib/python3.7/site-packages/keras_preprocessing/image/utils.py:25: DeprecationWarning: BICUBIC is deprecated and will be removed in Pillow 10 (2023-07-01). Use Resampling.BICUBIC instead.\n",
      "  'bicubic': pil_image.BICUBIC,\n",
      "/home/bimad4/anaconda3/envs/absa-env/lib/python3.7/site-packages/keras_preprocessing/image/utils.py:28: DeprecationWarning: HAMMING is deprecated and will be removed in Pillow 10 (2023-07-01). Use Resampling.HAMMING instead.\n",
      "  if hasattr(pil_image, 'HAMMING'):\n",
      "/home/bimad4/anaconda3/envs/absa-env/lib/python3.7/site-packages/keras_preprocessing/image/utils.py:30: DeprecationWarning: BOX is deprecated and will be removed in Pillow 10 (2023-07-01). Use Resampling.BOX instead.\n",
      "  if hasattr(pil_image, 'BOX'):\n",
      "/home/bimad4/anaconda3/envs/absa-env/lib/python3.7/site-packages/keras_preprocessing/image/utils.py:33: DeprecationWarning: LANCZOS is deprecated and will be removed in Pillow 10 (2023-07-01). Use Resampling.LANCZOS instead.\n",
      "  if hasattr(pil_image, 'LANCZOS'):\n",
      "2023-06-11 16:57:19.069173: I tensorflow/compiler/jit/xla_cpu_device.cc:41] Not creating XLA devices, tf_xla_enable_xla_devices not set\n",
      "2023-06-11 16:57:19.069260: I tensorflow/stream_executor/platform/default/dso_loader.cc:49] Successfully opened dynamic library libcuda.so.1\n",
      "2023-06-11 16:57:19.070805: I tensorflow/core/common_runtime/gpu/gpu_device.cc:1720] Found device 0 with properties: \n",
      "pciBusID: 0000:01:00.0 name: Tesla T4 computeCapability: 7.5\n",
      "coreClock: 1.59GHz coreCount: 40 deviceMemorySize: 14.75GiB deviceMemoryBandwidth: 298.08GiB/s\n",
      "2023-06-11 16:57:19.071822: I tensorflow/core/common_runtime/gpu/gpu_device.cc:1720] Found device 1 with properties: \n",
      "pciBusID: 0000:25:00.0 name: Tesla T4 computeCapability: 7.5\n",
      "coreClock: 1.59GHz coreCount: 40 deviceMemorySize: 14.75GiB deviceMemoryBandwidth: 298.08GiB/s\n",
      "2023-06-11 16:57:19.072991: I tensorflow/core/common_runtime/gpu/gpu_device.cc:1720] Found device 2 with properties: \n",
      "pciBusID: 0000:41:00.0 name: Tesla T4 computeCapability: 7.5\n",
      "coreClock: 1.59GHz coreCount: 40 deviceMemorySize: 14.75GiB deviceMemoryBandwidth: 298.08GiB/s\n",
      "2023-06-11 16:57:19.074016: I tensorflow/core/common_runtime/gpu/gpu_device.cc:1720] Found device 3 with properties: \n",
      "pciBusID: 0000:61:00.0 name: Tesla T4 computeCapability: 7.5\n",
      "coreClock: 1.59GHz coreCount: 40 deviceMemorySize: 14.75GiB deviceMemoryBandwidth: 298.08GiB/s\n",
      "2023-06-11 16:57:19.074037: I tensorflow/stream_executor/platform/default/dso_loader.cc:49] Successfully opened dynamic library libcudart.so.10.1\n",
      "2023-06-11 16:57:19.074068: I tensorflow/stream_executor/platform/default/dso_loader.cc:49] Successfully opened dynamic library libcublas.so.10\n",
      "2023-06-11 16:57:19.074086: I tensorflow/stream_executor/platform/default/dso_loader.cc:49] Successfully opened dynamic library libcublasLt.so.10\n",
      "2023-06-11 16:57:19.074105: I tensorflow/stream_executor/platform/default/dso_loader.cc:49] Successfully opened dynamic library libcufft.so.10\n",
      "2023-06-11 16:57:19.074124: I tensorflow/stream_executor/platform/default/dso_loader.cc:49] Successfully opened dynamic library libcurand.so.10\n",
      "2023-06-11 16:57:19.076180: I tensorflow/stream_executor/platform/default/dso_loader.cc:49] Successfully opened dynamic library libcusolver.so.10\n",
      "2023-06-11 16:57:19.076214: I tensorflow/stream_executor/platform/default/dso_loader.cc:49] Successfully opened dynamic library libcusparse.so.10\n",
      "2023-06-11 16:57:19.080192: I tensorflow/stream_executor/platform/default/dso_loader.cc:49] Successfully opened dynamic library libcudnn.so.7\n",
      "2023-06-11 16:57:19.088146: I tensorflow/core/common_runtime/gpu/gpu_device.cc:1862] Adding visible gpu devices: 0, 1, 2, 3\n"
     ]
    },
    {
     "name": "stdout",
     "output_type": "stream",
     "text": [
      "Version 0.8.7.4 of metric_visualizer is outdated. Version 0.9.7 was released Wednesday April 12, 2023.\n",
      "Version 1.16.27 of pyabsa is outdated. Version 2.3.1 was released Saturday April 15, 2023.\n",
      "PyABSA INFO: The PyABSA >= 2.0.0 version contains breaking changes, if you want to use the training and inference scripts (in demos directory), please do not upgrade to the >= 2.0.0 version\n",
      "check release notes at https://github.com/yangheng95/PyABSA/blob/release/release-note.json\n"
     ]
    }
   ],
   "source": [
    "from pyabsa.utils.file_utils import convert_apc_set_to_atepc_set\n",
    "from pyabsa.functional import ABSADatasetList"
   ]
  },
  {
   "cell_type": "code",
   "execution_count": 11,
   "metadata": {
    "colab": {
     "base_uri": "https://localhost:8080/"
    },
    "id": "6aC1LD1f-Z9c",
    "outputId": "31705dbe-3ba5-4d9c-be0b-2ec46e24d738"
   },
   "outputs": [
    {
     "name": "stdout",
     "output_type": "stream",
     "text": [
      "To ensure your conversion is successful, make sure the dataset name contain \"apc\" and \"dataset\" string \n",
      "Find datasets files at dataset_apc_final.txt:\n",
      "coverting dataset_apc_final.txt to dataset_apc_final.txt.atepc\n",
      "finished\n"
     ]
    }
   ],
   "source": [
    "convert_apc_set_to_atepc_set('dataset_apc_final.txt') "
   ]
  },
  {
   "cell_type": "code",
   "execution_count": 12,
   "metadata": {
    "id": "zcUVrwIrOvi8"
   },
   "outputs": [],
   "source": [
    "import locale\n",
    "def getpreferredencoding(do_setlocale = True):\n",
    "    return \"UTF-8\"\n",
    "locale.getpreferredencoding = getpreferredencoding"
   ]
  },
  {
   "cell_type": "markdown",
   "metadata": {
    "id": "aYwqi2hsjC24"
   },
   "source": [
    "### Convertion Data from ATEPC to APC\n",
    "---\n",
    "\n"
   ]
  },
  {
   "cell_type": "code",
   "execution_count": 13,
   "metadata": {
    "id": "q_dd890fjW0R"
   },
   "outputs": [],
   "source": [
    "!cp dataset_apc_final.txt.atepc atepc_final_data.txt"
   ]
  },
  {
   "cell_type": "code",
   "execution_count": 14,
   "metadata": {
    "id": "ORJttvxwmOCS"
   },
   "outputs": [],
   "source": [
    "import pandas as pd\n",
    "import csv"
   ]
  },
  {
   "cell_type": "code",
   "execution_count": 15,
   "metadata": {
    "id": "Pa13uw4FmQDb"
   },
   "outputs": [],
   "source": [
    "def to_csv(path, name):\n",
    "    df = pd.read_csv(path, sep='\\t', names=['text'], quoting=csv.QUOTE_NONE)\n",
    "    print(len(df))\n",
    "    df = pd.DataFrame(df.text.str.split(' ',).tolist(), columns=['token', 'tag', 'pol'])\n",
    "    print(len(df))\n",
    "    df.head(10)\n",
    "\n",
    "    tokens_list=[]\n",
    "    tags_list=[]\n",
    "    pols_list=[]\n",
    "\n",
    "    tokens=[]\n",
    "    tags=[]\n",
    "    pols=[]\n",
    "\n",
    "    for i in range(len(df)):\n",
    "        \n",
    "        token, tag, pol = df.iloc[i, :3].values\n",
    "\n",
    "        tokens.append(token)\n",
    "\n",
    "        if tag == 'O' : \n",
    "            tags.append(0)\n",
    "        elif tag == 'B-ASP':\n",
    "            tags.append(1)\n",
    "        else: \n",
    "            tags.append(1)\n",
    "  \n",
    "        if pol == \"Positive\":\n",
    "          final_pol = 2\n",
    "        elif pol == \"Neutral\":\n",
    "          final_pol = 1\n",
    "        elif pol == \"Negative\":\n",
    "          final_pol = 0\n",
    "        else:\n",
    "          final_pol =  -1\n",
    "        \n",
    "        pols.append(int(final_pol))\n",
    "\n",
    "        if token == \"EOF\":\n",
    "            tokens.pop()\n",
    "            tags.pop()\n",
    "            pols.pop()\n",
    "           \n",
    "            ### to lower case\n",
    "            for k in range(len(tokens)):\n",
    "              tokens[k] = tokens[k].lower()\n",
    "\n",
    "            if(len(tokens) > 1):\n",
    "              tokens_list.append(tokens)\n",
    "              tags_list.append(tags)\n",
    "              pols_list.append(pols)\n",
    "            \n",
    "            tokens=[]\n",
    "            tags=[]\n",
    "            pols=[]\n",
    "\n",
    "    data = {'Tokens':tokens_list, \n",
    "            'Tags': tags_list, \n",
    "            'Polarities': pols_list}\n",
    "\n",
    "    df = pd.DataFrame(data)\n",
    "    print(len(df))\n",
    "    df.head()\n",
    "\n",
    "    df.to_csv(name, index=False)  "
   ]
  },
  {
   "cell_type": "code",
   "execution_count": 16,
   "metadata": {
    "colab": {
     "base_uri": "https://localhost:8080/"
    },
    "id": "S4RqzGosmSxJ",
    "outputId": "a2cf72af-9b36-4ae0-eb67-d0ea1ce8cd01"
   },
   "outputs": [
    {
     "name": "stdout",
     "output_type": "stream",
     "text": [
      "1110488\n",
      "1110488\n",
      "24654\n"
     ]
    }
   ],
   "source": [
    "#pastiin sesuai sama nama file atepc nya\n",
    "to_csv('atepc_final_data.txt','final_data.csv')"
   ]
  },
  {
   "cell_type": "code",
   "execution_count": 17,
   "metadata": {
    "colab": {
     "base_uri": "https://localhost:8080/"
    },
    "id": "SrxSnci1nAjw",
    "outputId": "555d9f7d-a0fc-434d-cf4b-911bd406c8cf"
   },
   "outputs": [
    {
     "name": "stdout",
     "output_type": "stream",
     "text": [
      "21760\n"
     ]
    }
   ],
   "source": [
    "# remove duplicate\n",
    "# gabisa dibikin di fungsi to_csv malah error unhashable list\n",
    "\n",
    "file_name = \"final_data.csv\"\n",
    "df = pd.read_csv(file_name)\n",
    "\n",
    "df = df.drop_duplicates( subset = ['Tokens', 'Tags', 'Polarities'])\n",
    "print(len(df))\n",
    "\n",
    "file_name_output = \"final_data.csv\"\n",
    "# Write the results to a different file\n",
    "df.to_csv(file_name_output, index=False)"
   ]
  },
  {
   "cell_type": "markdown",
   "metadata": {
    "id": "9397irSXwrph"
   },
   "source": [
    "### Total Data Visualization\n",
    "---"
   ]
  },
  {
   "cell_type": "code",
   "execution_count": 18,
   "metadata": {
    "id": "wWQ42e1sw1vT"
   },
   "outputs": [],
   "source": [
    "from sklearn.metrics import classification_report\n",
    "from sklearn.metrics import confusion_matrix\n",
    "import matplotlib.pyplot as plt"
   ]
  },
  {
   "cell_type": "code",
   "execution_count": 19,
   "metadata": {
    "id": "wDps5EYywyge"
   },
   "outputs": [],
   "source": [
    "def bar_chart(training_data_path):\n",
    "  df = pd.read_csv(training_data_path)\n",
    "  df = df.Polarities.apply(lambda x: x.strip('][').split(', '))\n",
    "\n",
    "  neg = 0\n",
    "  net = 0\n",
    "  pos = 0\n",
    "  for i in range(len(df)):\n",
    "    if('0' in df[i]):\n",
    "      neg = neg + 1\n",
    "    elif('1' in df[i]):\n",
    "      net = net + 1\n",
    "    elif('2' in df[i]):\n",
    "      pos = pos + 1\n",
    "\n",
    "  # creating the dataset\n",
    "  data = {'Negative':neg, 'Neutral':net, 'Positive':pos}\n",
    "  courses = list(data.keys())\n",
    "  values = list(data.values())\n",
    "    \n",
    "  fig = plt.figure(figsize = (10, 5))\n",
    "  \n",
    "  # creating the bar plot\n",
    "  plt.bar(courses, values, color =['red', 'blue', 'green'],\n",
    "          width = 0.4)\n",
    "  \n",
    "  plt.xlabel(\"Sentiment\")\n",
    "  # plt.ylabel(\"No. of students enrolled\")\n",
    "  plt.title(\"Number of row\")\n",
    "  plt.show()"
   ]
  },
  {
   "cell_type": "code",
   "execution_count": 20,
   "metadata": {
    "colab": {
     "base_uri": "https://localhost:8080/",
     "height": 398
    },
    "id": "EJXO1HdIw2xm",
    "outputId": "ad793281-d107-46bd-a0d5-cb59d4b2a50b"
   },
   "outputs": [
    {
     "data": {
      "image/png": "[encoded data removed]",
      "text/plain": [
       "<Figure size 1000x500 with 1 Axes>"
      ]
     },
     "metadata": {},
     "output_type": "display_data"
    }
   ],
   "source": [
    "bar_chart(\"final_data.csv\")"
   ]
  },
  {
   "cell_type": "markdown",
   "metadata": {
    "id": "u9-Kul_Un_Gq"
   },
   "source": [
    "### Data Balancing\n",
    "---"
   ]
  },
  {
   "cell_type": "code",
   "execution_count": 21,
   "metadata": {
    "id": "pvHshIA8oE9u"
   },
   "outputs": [],
   "source": [
    "import pandas as pd\n",
    "import numpy as np\n",
    "import random"
   ]
  },
  {
   "cell_type": "code",
   "execution_count": 22,
   "metadata": {
    "id": "jxJxEV0PoGtL"
   },
   "outputs": [],
   "source": [
    "df = pd.read_csv(\"final_data.csv\")\n",
    "\n",
    "df_pos = pd.DataFrame(columns=['Tokens', 'Tags', 'Polarities'])\n",
    "df_net = pd.DataFrame(columns=['Tokens', 'Tags', 'Polarities'])\n",
    "df_neg = pd.DataFrame(columns=['Tokens', 'Tags', 'Polarities'])\n",
    "\n",
    "polarities = df.Polarities.apply(lambda x: x.strip('][').split(', '))\n",
    "\n",
    "for i in range(len(df)):\n",
    "  if('0' in polarities[i]):\n",
    "    df_neg = df_neg.append(df.loc[i])\n",
    "  elif('1' in polarities[i]):\n",
    "    df_net = df_net.append(df.loc[i])\n",
    "  elif('2' in polarities[i]):\n",
    "    df_pos = df_pos.append(df.loc[i])"
   ]
  },
  {
   "cell_type": "code",
   "execution_count": 23,
   "metadata": {
    "id": "Oi6lGEKjpT-3"
   },
   "outputs": [],
   "source": [
    "df_pos = df_pos.sample(frac = 1).reset_index(drop=True)\n",
    "df_net = df_net.sample(frac = 1).reset_index(drop=True)\n",
    "df_neg = df_neg.sample(frac = 1).reset_index(drop=True)\n",
    "df_net_balance = df_net\n",
    "df_pos_balance = df_pos\n",
    "df_neg_balance = df_neg"
   ]
  },
  {
   "cell_type": "code",
   "execution_count": 24,
   "metadata": {
    "colab": {
     "base_uri": "https://localhost:8080/"
    },
    "id": "Pbpy9fghpWPq",
    "outputId": "ae3c953b-45f7-4c5c-9ddd-9c8453873d65"
   },
   "outputs": [
    {
     "name": "stdout",
     "output_type": "stream",
     "text": [
      "5712 4166 11876\n"
     ]
    }
   ],
   "source": [
    "print(len(df_neg_balance), len(df_net_balance), len(df_pos_balance))"
   ]
  },
  {
   "cell_type": "markdown",
   "metadata": {
    "id": "hZyUxJ2Hp5nK"
   },
   "source": [
    "Balancing Data"
   ]
  },
  {
   "cell_type": "code",
   "execution_count": 25,
   "metadata": {
    "id": "yNL8shY8p8hR"
   },
   "outputs": [],
   "source": [
    "df_pos_balance['split'] = np.random.randn(df_pos_balance.shape[0], 1)\n",
    "df_net_balance['split'] = np.random.randn(df_net_balance.shape[0], 1)\n",
    "df_neg_balance['split'] = np.random.randn(df_neg_balance.shape[0], 1)\n",
    "\n",
    "#### Balance normal ideal (minimal length kelas terkecil)\n",
    "#df_pos_balance = df_pos_balance[0:(len(df_net_balance))]\n",
    "#df_net_balance = df_net_balance[0:(len(df_net_balance))]\n",
    "#df_neg_balance = df_neg_balance[0:(len(df_net_balance))]\n",
    "\n",
    "#### Ambil data 100 buat testing data grid dan random.\n",
    "df_pos_balance = df_pos_balance[0:len(df_net_balance)]\n",
    "df_net_balance = df_net_balance[0:len(df_net_balance)]\n",
    "df_neg_balance = df_neg_balance[0:len(df_net_balance)]"
   ]
  },
  {
   "cell_type": "code",
   "execution_count": 26,
   "metadata": {
    "colab": {
     "base_uri": "https://localhost:8080/"
    },
    "id": "wbcrAyKnsbnk",
    "outputId": "45d0f218-c158-41b5-8188-af0cb26397a4"
   },
   "outputs": [
    {
     "name": "stdout",
     "output_type": "stream",
     "text": [
      "4166 4166 4166\n"
     ]
    }
   ],
   "source": [
    "print(len(df_neg_balance), len(df_net_balance), len(df_pos_balance))"
   ]
  },
  {
   "cell_type": "markdown",
   "metadata": {
    "id": "tlr5BbF2szZs"
   },
   "source": [
    "Pembagian Training dan Test Data"
   ]
  },
  {
   "cell_type": "code",
   "execution_count": 27,
   "metadata": {
    "id": "I0sUQBGjs2vu"
   },
   "outputs": [],
   "source": [
    "    msk_pos = np.random.rand(len(df_pos_balance)) <= 0.8\n",
    "    msk_net = np.random.rand(len(df_net_balance)) <= 0.8\n",
    "    msk_neg = np.random.rand(len(df_neg_balance)) <= 0.8"
   ]
  },
  {
   "cell_type": "code",
   "execution_count": 28,
   "metadata": {
    "id": "OKqsdurZuTls"
   },
   "outputs": [],
   "source": [
    "train = df_pos_balance[msk_pos]\n",
    "train = train.append(df_net_balance[msk_net])\n",
    "train = train.append(df_neg_balance[msk_neg])\n",
    "\n",
    "test = df_pos_balance[~msk_pos]\n",
    "test = test.append(df_net_balance[~msk_net])\n",
    "test = test.append(df_neg_balance[~msk_neg])\n",
    "\n",
    "train.drop('split', inplace=True, axis=1)\n",
    "test.drop('split', inplace=True, axis=1)"
   ]
  },
  {
   "cell_type": "code",
   "execution_count": 29,
   "metadata": {
    "colab": {
     "base_uri": "https://localhost:8080/"
    },
    "id": "HJw06-Fft-Od",
    "outputId": "82b7896d-8c9b-4ffb-e014-a78e4ce1913e"
   },
   "outputs": [
    {
     "name": "stdout",
     "output_type": "stream",
     "text": [
      "3347 3325 3325\n"
     ]
    }
   ],
   "source": [
    "#jumlah data train\n",
    "print(len(df_neg_balance[msk_neg]), len(df_net_balance[msk_net]), len(df_pos_balance[msk_net]))"
   ]
  },
  {
   "cell_type": "code",
   "execution_count": 30,
   "metadata": {
    "colab": {
     "base_uri": "https://localhost:8080/"
    },
    "id": "gDxxpCoOt_Q3",
    "outputId": "333fa16e-0371-44a0-aa14-193b7a0d9a12"
   },
   "outputs": [
    {
     "name": "stdout",
     "output_type": "stream",
     "text": [
      "819 841 841\n"
     ]
    }
   ],
   "source": [
    "#jumlah data test\n",
    "print(len(df_neg_balance[~msk_neg]), len(df_net_balance[~msk_net]), len(df_pos_balance[~msk_net]))"
   ]
  },
  {
   "cell_type": "code",
   "execution_count": 31,
   "metadata": {
    "id": "DxyDHPvktidU"
   },
   "outputs": [],
   "source": [
    "train.to_csv(\"data_balance_experiment_training.csv\", index=False)\n",
    "test.to_csv(\"data_balance_experiment_testing.csv\", index=False)"
   ]
  },
  {
   "cell_type": "code",
   "execution_count": 32,
   "metadata": {
    "colab": {
     "base_uri": "https://localhost:8080/"
    },
    "id": "-1gq8N9Gk0da",
    "outputId": "138c63ad-6512-41b6-c832-00bfa1f7c243"
   },
   "outputs": [
    {
     "data": {
      "text/plain": [
       "10003"
      ]
     },
     "execution_count": 32,
     "metadata": {},
     "output_type": "execute_result"
    }
   ],
   "source": [
    "len(train)"
   ]
  },
  {
   "cell_type": "code",
   "execution_count": 33,
   "metadata": {
    "colab": {
     "base_uri": "https://localhost:8080/"
    },
    "id": "50n-9jOhk0-M",
    "outputId": "8e35a99f-7f62-4d94-e83f-d93e9e654677"
   },
   "outputs": [
    {
     "data": {
      "text/plain": [
       "2495"
      ]
     },
     "execution_count": 33,
     "metadata": {},
     "output_type": "execute_result"
    }
   ],
   "source": [
    "len(test)"
   ]
  }
 ],
 "metadata": {
  "accelerator": "GPU",
  "colab": {
   "provenance": []
  },
  "gpuClass": "standard",
  "kernelspec": {
   "display_name": "Python 3 (ipykernel)",
   "language": "python",
   "name": "python3"
  },
  "language_info": {
   "codemirror_mode": {
    "name": "ipython",
    "version": 3
   },
   "file_extension": ".py",
   "mimetype": "text/x-python",
   "name": "python",
   "nbconvert_exporter": "python",
   "pygments_lexer": "ipython3",
   "version": "3.7.6"
  }
 },
 "nbformat": 4,
 "nbformat_minor": 1
}
